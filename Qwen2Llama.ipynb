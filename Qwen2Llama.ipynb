{
 "cells": [
  {
   "cell_type": "code",
   "execution_count": 23,
   "metadata": {},
   "outputs": [],
   "source": [
    "from transformers import AutoTokenizer\n",
    "from torchinfo import summary\n",
    "from transformers import GPT2LMHeadModel\n",
    "import torch\n",
    "from transformers import pipeline\n",
    "from modelscope import snapshot_download\n",
    "from transformers import AutoTokenizer, AutoModelForCausalLM\n",
    "import gc"
   ]
  },
  {
   "cell_type": "code",
   "execution_count": 17,
   "metadata": {},
   "outputs": [],
   "source": [
    "model_hf = GPT2LMHeadModel.from_pretrained('D:/others/gpt-2')"
   ]
  },
  {
   "cell_type": "code",
   "execution_count": 14,
   "metadata": {},
   "outputs": [
    {
     "name": "stderr",
     "output_type": "stream",
     "text": [
      "Downloading: 100%|██████████| 877/877 [00:00<00:00, 2.28kB/s]\n",
      "Downloading: 100%|██████████| 2.00/2.00 [00:00<00:00, 5.02B/s]\n",
      "Downloading:  63%|██████▎   | 1.45G/2.30G [29:50<38:19, 398kB/s]  2025-02-06 16:06:24,806 - modelscope - WARNING - Downloading: D:/models/llama3.1\\._____temp\\LLM-Research\\Llama-3.2-1B-Instruct\\original/consolidated.00.pth failed, reason: ('Connection broken: IncompleteRead(38615868 bytes read, 129156292 more expected)', IncompleteRead(38615868 bytes read, 129156292 more expected)) will retry\n",
      "Downloading: 2.34GB [51:25, 813kB/s]                             \n",
      "Downloading: 100%|██████████| 189/189 [00:01<00:00, 185B/s]\n",
      "Downloading: 100%|██████████| 7.53k/7.53k [00:00<00:00, 20.0kB/s]\n",
      "Downloading: 100%|██████████| 2.30G/2.30G [35:22<00:00, 1.16MB/s] \n",
      "Downloading: 100%|██████████| 220/220 [00:00<00:00, 409B/s]\n",
      "Downloading: 100%|██████████| 35.1k/35.1k [00:00<00:00, 91.5kB/s]\n",
      "Downloading: 100%|██████████| 296/296 [00:00<00:00, 577B/s]\n",
      "Downloading: 100%|██████████| 8.66M/8.66M [00:18<00:00, 504kB/s]\n",
      "Downloading: 100%|██████████| 2.08M/2.08M [00:04<00:00, 454kB/s]\n",
      "Downloading: 100%|██████████| 53.2k/53.2k [00:00<00:00, 116kB/s]\n",
      "Downloading: 100%|██████████| 5.88k/5.88k [00:00<00:00, 15.5kB/s]\n"
     ]
    }
   ],
   "source": [
    "model_dir = snapshot_download('LLM-Research/Llama-3.2-1B-Instruct', cache_dir='D:/models/llama3.1')"
   ]
  },
  {
   "cell_type": "code",
   "execution_count": 20,
   "metadata": {},
   "outputs": [
    {
     "data": {
      "text/plain": [
       "===========================================================================\n",
       "Layer (type:depth-idx)                             Param #\n",
       "===========================================================================\n",
       "GPT2LMHeadModel                                    --\n",
       "├─GPT2Model: 1-1                                   --\n",
       "│    └─Embedding: 2-1                              38,597,376\n",
       "│    └─Embedding: 2-2                              786,432\n",
       "│    └─Dropout: 2-3                                --\n",
       "│    └─ModuleList: 2-4                             --\n",
       "│    │    └─GPT2Block: 3-1                         7,087,872\n",
       "│    │    └─GPT2Block: 3-2                         7,087,872\n",
       "│    │    └─GPT2Block: 3-3                         7,087,872\n",
       "│    │    └─GPT2Block: 3-4                         7,087,872\n",
       "│    │    └─GPT2Block: 3-5                         7,087,872\n",
       "│    │    └─GPT2Block: 3-6                         7,087,872\n",
       "│    │    └─GPT2Block: 3-7                         7,087,872\n",
       "│    │    └─GPT2Block: 3-8                         7,087,872\n",
       "│    │    └─GPT2Block: 3-9                         7,087,872\n",
       "│    │    └─GPT2Block: 3-10                        7,087,872\n",
       "│    │    └─GPT2Block: 3-11                        7,087,872\n",
       "│    │    └─GPT2Block: 3-12                        7,087,872\n",
       "│    └─LayerNorm: 2-5                              1,536\n",
       "├─Linear: 1-2                                      38,597,376\n",
       "===========================================================================\n",
       "Total params: 163,037,184\n",
       "Trainable params: 163,037,184\n",
       "Non-trainable params: 0\n",
       "==========================================================================="
      ]
     },
     "execution_count": 20,
     "metadata": {},
     "output_type": "execute_result"
    }
   ],
   "source": [
    "summary(model_hf)"
   ]
  },
  {
   "cell_type": "code",
   "execution_count": 22,
   "metadata": {},
   "outputs": [
    {
     "data": {
      "text/plain": [
       "1167"
      ]
     },
     "execution_count": 22,
     "metadata": {},
     "output_type": "execute_result"
    }
   ],
   "source": [
    "del model_hf\n",
    "gc.collect()"
   ]
  },
  {
   "cell_type": "code",
   "execution_count": 25,
   "metadata": {},
   "outputs": [],
   "source": [
    "llama32 = AutoModelForCausalLM.from_pretrained(r\"D:\\models\\llama3.1\\LLM-Research\\Llama-3___2-1B-Instruct\", device_map=\"auto\", trust_remote_code=True).eval()"
   ]
  },
  {
   "cell_type": "code",
   "execution_count": 26,
   "metadata": {},
   "outputs": [
    {
     "data": {
      "text/plain": [
       "================================================================================\n",
       "Layer (type:depth-idx)                                  Param #\n",
       "================================================================================\n",
       "LlamaForCausalLM                                        --\n",
       "├─LlamaModel: 1-1                                       --\n",
       "│    └─Embedding: 2-1                                   262,668,288\n",
       "│    └─ModuleList: 2-2                                  --\n",
       "│    │    └─LlamaDecoderLayer: 3-1                      60,821,504\n",
       "│    │    └─LlamaDecoderLayer: 3-2                      60,821,504\n",
       "│    │    └─LlamaDecoderLayer: 3-3                      60,821,504\n",
       "│    │    └─LlamaDecoderLayer: 3-4                      60,821,504\n",
       "│    │    └─LlamaDecoderLayer: 3-5                      60,821,504\n",
       "│    │    └─LlamaDecoderLayer: 3-6                      60,821,504\n",
       "│    │    └─LlamaDecoderLayer: 3-7                      60,821,504\n",
       "│    │    └─LlamaDecoderLayer: 3-8                      60,821,504\n",
       "│    │    └─LlamaDecoderLayer: 3-9                      60,821,504\n",
       "│    │    └─LlamaDecoderLayer: 3-10                     60,821,504\n",
       "│    │    └─LlamaDecoderLayer: 3-11                     60,821,504\n",
       "│    │    └─LlamaDecoderLayer: 3-12                     60,821,504\n",
       "│    │    └─LlamaDecoderLayer: 3-13                     60,821,504\n",
       "│    │    └─LlamaDecoderLayer: 3-14                     60,821,504\n",
       "│    │    └─LlamaDecoderLayer: 3-15                     60,821,504\n",
       "│    │    └─LlamaDecoderLayer: 3-16                     60,821,504\n",
       "│    └─LlamaRMSNorm: 2-3                                2,048\n",
       "│    └─LlamaRotaryEmbedding: 2-4                        --\n",
       "├─Linear: 1-2                                           262,668,288\n",
       "================================================================================\n",
       "Total params: 1,498,482,688\n",
       "Trainable params: 1,498,482,688\n",
       "Non-trainable params: 0\n",
       "================================================================================"
      ]
     },
     "execution_count": 26,
     "metadata": {},
     "output_type": "execute_result"
    }
   ],
   "source": [
    "summary(llama32)"
   ]
  },
  {
   "cell_type": "code",
   "execution_count": 27,
   "metadata": {},
   "outputs": [
    {
     "data": {
      "text/plain": [
       "7"
      ]
     },
     "execution_count": 27,
     "metadata": {},
     "output_type": "execute_result"
    }
   ],
   "source": [
    "del llama32\n",
    "gc.collect()"
   ]
  },
  {
   "cell_type": "code",
   "execution_count": 28,
   "metadata": {},
   "outputs": [],
   "source": [
    "Qwen25 = AutoModelForCausalLM.from_pretrained(r\"D:\\models\\qwen2.5\", device_map=\"auto\", trust_remote_code=True).eval()"
   ]
  },
  {
   "cell_type": "code",
   "execution_count": 29,
   "metadata": {},
   "outputs": [
    {
     "data": {
      "text/plain": [
       "================================================================================\n",
       "Layer (type:depth-idx)                                  Param #\n",
       "================================================================================\n",
       "Qwen2ForCausalLM                                        --\n",
       "├─Qwen2Model: 1-1                                       --\n",
       "│    └─Embedding: 2-1                                   233,373,696\n",
       "│    └─ModuleList: 2-2                                  --\n",
       "│    │    └─Qwen2DecoderLayer: 3-1                      46,797,824\n",
       "│    │    └─Qwen2DecoderLayer: 3-2                      46,797,824\n",
       "│    │    └─Qwen2DecoderLayer: 3-3                      46,797,824\n",
       "│    │    └─Qwen2DecoderLayer: 3-4                      46,797,824\n",
       "│    │    └─Qwen2DecoderLayer: 3-5                      46,797,824\n",
       "│    │    └─Qwen2DecoderLayer: 3-6                      46,797,824\n",
       "│    │    └─Qwen2DecoderLayer: 3-7                      46,797,824\n",
       "│    │    └─Qwen2DecoderLayer: 3-8                      46,797,824\n",
       "│    │    └─Qwen2DecoderLayer: 3-9                      46,797,824\n",
       "│    │    └─Qwen2DecoderLayer: 3-10                     46,797,824\n",
       "│    │    └─Qwen2DecoderLayer: 3-11                     46,797,824\n",
       "│    │    └─Qwen2DecoderLayer: 3-12                     46,797,824\n",
       "│    │    └─Qwen2DecoderLayer: 3-13                     46,797,824\n",
       "│    │    └─Qwen2DecoderLayer: 3-14                     46,797,824\n",
       "│    │    └─Qwen2DecoderLayer: 3-15                     46,797,824\n",
       "│    │    └─Qwen2DecoderLayer: 3-16                     46,797,824\n",
       "│    │    └─Qwen2DecoderLayer: 3-17                     46,797,824\n",
       "│    │    └─Qwen2DecoderLayer: 3-18                     46,797,824\n",
       "│    │    └─Qwen2DecoderLayer: 3-19                     46,797,824\n",
       "│    │    └─Qwen2DecoderLayer: 3-20                     46,797,824\n",
       "│    │    └─Qwen2DecoderLayer: 3-21                     46,797,824\n",
       "│    │    └─Qwen2DecoderLayer: 3-22                     46,797,824\n",
       "│    │    └─Qwen2DecoderLayer: 3-23                     46,797,824\n",
       "│    │    └─Qwen2DecoderLayer: 3-24                     46,797,824\n",
       "│    │    └─Qwen2DecoderLayer: 3-25                     46,797,824\n",
       "│    │    └─Qwen2DecoderLayer: 3-26                     46,797,824\n",
       "│    │    └─Qwen2DecoderLayer: 3-27                     46,797,824\n",
       "│    │    └─Qwen2DecoderLayer: 3-28                     46,797,824\n",
       "│    └─Qwen2RMSNorm: 2-3                                1,536\n",
       "│    └─Qwen2RotaryEmbedding: 2-4                        --\n",
       "├─Linear: 1-2                                           233,373,696\n",
       "================================================================================\n",
       "Total params: 1,777,088,000\n",
       "Trainable params: 1,777,088,000\n",
       "Non-trainable params: 0\n",
       "================================================================================"
      ]
     },
     "execution_count": 29,
     "metadata": {},
     "output_type": "execute_result"
    }
   ],
   "source": [
    "summary(Qwen25)"
   ]
  },
  {
   "cell_type": "code",
   "execution_count": null,
   "metadata": {},
   "outputs": [],
   "source": []
  }
 ],
 "metadata": {
  "kernelspec": {
   "display_name": "agent_env",
   "language": "python",
   "name": "python3"
  },
  "language_info": {
   "codemirror_mode": {
    "name": "ipython",
    "version": 3
   },
   "file_extension": ".py",
   "mimetype": "text/x-python",
   "name": "python",
   "nbconvert_exporter": "python",
   "pygments_lexer": "ipython3",
   "version": "3.10.14"
  }
 },
 "nbformat": 4,
 "nbformat_minor": 2
}
